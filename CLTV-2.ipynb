{
 "cells": [
  {
   "cell_type": "code",
   "execution_count": 1,
   "metadata": {
    "collapsed": true
   },
   "outputs": [],
   "source": [
    "import pymc3 as pm\n",
    "import numpy as np\n",
    "import matplotlib.pyplot as plt\n",
    "import pandas as pd "
   ]
  },
  {
   "cell_type": "code",
   "execution_count": 203,
   "metadata": {},
   "outputs": [
    {
     "data": {
      "text/html": [
       "<div>\n",
       "<style>\n",
       "    .dataframe thead tr:only-child th {\n",
       "        text-align: right;\n",
       "    }\n",
       "\n",
       "    .dataframe thead th {\n",
       "        text-align: left;\n",
       "    }\n",
       "\n",
       "    .dataframe tbody tr th {\n",
       "        vertical-align: top;\n",
       "    }\n",
       "</style>\n",
       "<table border=\"1\" class=\"dataframe\">\n",
       "  <thead>\n",
       "    <tr style=\"text-align: right;\">\n",
       "      <th></th>\n",
       "      <th>customer_id</th>\n",
       "      <th>customer_index</th>\n",
       "      <th>date</th>\n",
       "      <th>quantity</th>\n",
       "      <th>amount</th>\n",
       "    </tr>\n",
       "  </thead>\n",
       "  <tbody>\n",
       "    <tr>\n",
       "      <th>0</th>\n",
       "      <td>4</td>\n",
       "      <td>1</td>\n",
       "      <td>1997-01-01</td>\n",
       "      <td>2</td>\n",
       "      <td>29.33</td>\n",
       "    </tr>\n",
       "    <tr>\n",
       "      <th>1</th>\n",
       "      <td>4</td>\n",
       "      <td>1</td>\n",
       "      <td>1997-01-18</td>\n",
       "      <td>2</td>\n",
       "      <td>29.73</td>\n",
       "    </tr>\n",
       "    <tr>\n",
       "      <th>2</th>\n",
       "      <td>4</td>\n",
       "      <td>1</td>\n",
       "      <td>1997-08-02</td>\n",
       "      <td>1</td>\n",
       "      <td>14.96</td>\n",
       "    </tr>\n",
       "    <tr>\n",
       "      <th>3</th>\n",
       "      <td>4</td>\n",
       "      <td>1</td>\n",
       "      <td>1997-12-12</td>\n",
       "      <td>2</td>\n",
       "      <td>26.48</td>\n",
       "    </tr>\n",
       "    <tr>\n",
       "      <th>4</th>\n",
       "      <td>21</td>\n",
       "      <td>2</td>\n",
       "      <td>1997-01-01</td>\n",
       "      <td>3</td>\n",
       "      <td>63.34</td>\n",
       "    </tr>\n",
       "  </tbody>\n",
       "</table>\n",
       "</div>"
      ],
      "text/plain": [
       "   customer_id  customer_index       date  quantity  amount\n",
       "0            4               1 1997-01-01         2   29.33\n",
       "1            4               1 1997-01-18         2   29.73\n",
       "2            4               1 1997-08-02         1   14.96\n",
       "3            4               1 1997-12-12         2   26.48\n",
       "4           21               2 1997-01-01         3   63.34"
      ]
     },
     "execution_count": 203,
     "metadata": {},
     "output_type": "execute_result"
    }
   ],
   "source": [
    "import pandas as pd \n",
    "from lifetimes.datasets import load_dataset\n",
    "\n",
    "cdnow_transactions = load_dataset(\n",
    "    'CDNOW_sample.txt', \n",
    "    header=None, \n",
    "    delim_whitespace=True, \n",
    "    names=['customer_id', 'customer_index', 'date', 'quantity', 'amount'],\n",
    "    converters={'date': lambda x: pd.to_datetime(x, format=\"%Y%m%d\")}\n",
    ")\n",
    "\n",
    "cdnow_transactions.head()"
   ]
  },
  {
   "cell_type": "code",
   "execution_count": 211,
   "metadata": {},
   "outputs": [
    {
     "data": {
      "text/html": [
       "<div>\n",
       "<style>\n",
       "    .dataframe thead tr:only-child th {\n",
       "        text-align: right;\n",
       "    }\n",
       "\n",
       "    .dataframe thead th {\n",
       "        text-align: left;\n",
       "    }\n",
       "\n",
       "    .dataframe tbody tr th {\n",
       "        vertical-align: top;\n",
       "    }\n",
       "</style>\n",
       "<table border=\"1\" class=\"dataframe\">\n",
       "  <thead>\n",
       "    <tr style=\"text-align: right;\">\n",
       "      <th></th>\n",
       "      <th>frequency</th>\n",
       "      <th>recency</th>\n",
       "      <th>T</th>\n",
       "    </tr>\n",
       "    <tr>\n",
       "      <th>customer_id</th>\n",
       "      <th></th>\n",
       "      <th></th>\n",
       "      <th></th>\n",
       "    </tr>\n",
       "  </thead>\n",
       "  <tbody>\n",
       "    <tr>\n",
       "      <th>4</th>\n",
       "      <td>2.0</td>\n",
       "      <td>30.0</td>\n",
       "      <td>39.0</td>\n",
       "    </tr>\n",
       "    <tr>\n",
       "      <th>18</th>\n",
       "      <td>0.0</td>\n",
       "      <td>0.0</td>\n",
       "      <td>39.0</td>\n",
       "    </tr>\n",
       "    <tr>\n",
       "      <th>21</th>\n",
       "      <td>1.0</td>\n",
       "      <td>2.0</td>\n",
       "      <td>39.0</td>\n",
       "    </tr>\n",
       "    <tr>\n",
       "      <th>50</th>\n",
       "      <td>0.0</td>\n",
       "      <td>0.0</td>\n",
       "      <td>39.0</td>\n",
       "    </tr>\n",
       "    <tr>\n",
       "      <th>60</th>\n",
       "      <td>0.0</td>\n",
       "      <td>0.0</td>\n",
       "      <td>35.0</td>\n",
       "    </tr>\n",
       "    <tr>\n",
       "      <th>71</th>\n",
       "      <td>0.0</td>\n",
       "      <td>0.0</td>\n",
       "      <td>39.0</td>\n",
       "    </tr>\n",
       "    <tr>\n",
       "      <th>86</th>\n",
       "      <td>0.0</td>\n",
       "      <td>0.0</td>\n",
       "      <td>39.0</td>\n",
       "    </tr>\n",
       "    <tr>\n",
       "      <th>111</th>\n",
       "      <td>6.0</td>\n",
       "      <td>29.0</td>\n",
       "      <td>39.0</td>\n",
       "    </tr>\n",
       "    <tr>\n",
       "      <th>112</th>\n",
       "      <td>1.0</td>\n",
       "      <td>5.0</td>\n",
       "      <td>39.0</td>\n",
       "    </tr>\n",
       "    <tr>\n",
       "      <th>113</th>\n",
       "      <td>0.0</td>\n",
       "      <td>0.0</td>\n",
       "      <td>39.0</td>\n",
       "    </tr>\n",
       "  </tbody>\n",
       "</table>\n",
       "</div>"
      ],
      "text/plain": [
       "             frequency  recency     T\n",
       "customer_id                          \n",
       "4                  2.0     30.0  39.0\n",
       "18                 0.0      0.0  39.0\n",
       "21                 1.0      2.0  39.0\n",
       "50                 0.0      0.0  39.0\n",
       "60                 0.0      0.0  35.0\n",
       "71                 0.0      0.0  39.0\n",
       "86                 0.0      0.0  39.0\n",
       "111                6.0     29.0  39.0\n",
       "112                1.0      5.0  39.0\n",
       "113                0.0      0.0  39.0"
      ]
     },
     "execution_count": 211,
     "metadata": {},
     "output_type": "execute_result"
    }
   ],
   "source": [
    "from lifetimes.utils import summary_data_from_transaction_data\n",
    "rfm = summary_data_from_transaction_data(cdnow_transactions, 'customer_id', 'date', observation_period_end='1997-09-30', freq='W')\n",
    "rfm.head(10)"
   ]
  },
  {
   "cell_type": "code",
   "execution_count": 205,
   "metadata": {},
   "outputs": [
    {
     "name": "stdout",
     "output_type": "stream",
     "text": [
      "<lifetimes.ParetoNBDFitter: fitted with 2357 subjects, alpha: 14.56, beta: 13.88, r: 0.63, s: 0.57>\n"
     ]
    }
   ],
   "source": [
    "\n",
    "from lifetimes import ParetoNBDFitter\n",
    "\n",
    "pnbd = ParetoNBDFitter()\n",
    "pnbd.fit(rfm['frequency'], rfm['recency'], rfm['T'])\n",
    "print (pnbd)"
   ]
  },
  {
   "cell_type": "code",
   "execution_count": 206,
   "metadata": {},
   "outputs": [
    {
     "data": {
      "text/html": [
       "<div>\n",
       "<style>\n",
       "    .dataframe thead tr:only-child th {\n",
       "        text-align: right;\n",
       "    }\n",
       "\n",
       "    .dataframe thead th {\n",
       "        text-align: left;\n",
       "    }\n",
       "\n",
       "    .dataframe tbody tr th {\n",
       "        vertical-align: top;\n",
       "    }\n",
       "</style>\n",
       "<table border=\"1\" class=\"dataframe\">\n",
       "  <thead>\n",
       "    <tr style=\"text-align: right;\">\n",
       "      <th></th>\n",
       "      <th>frequency_cal</th>\n",
       "      <th>recency_cal</th>\n",
       "      <th>T_cal</th>\n",
       "      <th>frequency_holdout</th>\n",
       "      <th>duration_holdout</th>\n",
       "    </tr>\n",
       "  </thead>\n",
       "  <tbody>\n",
       "    <tr>\n",
       "      <th>count</th>\n",
       "      <td>2357.000000</td>\n",
       "      <td>2357.000000</td>\n",
       "      <td>2357.000000</td>\n",
       "      <td>2357.000000</td>\n",
       "      <td>2357.0</td>\n",
       "    </tr>\n",
       "    <tr>\n",
       "      <th>mean</th>\n",
       "      <td>0.940178</td>\n",
       "      <td>6.842597</td>\n",
       "      <td>32.985999</td>\n",
       "      <td>0.758591</td>\n",
       "      <td>39.0</td>\n",
       "    </tr>\n",
       "    <tr>\n",
       "      <th>std</th>\n",
       "      <td>1.835391</td>\n",
       "      <td>10.729357</td>\n",
       "      <td>3.346091</td>\n",
       "      <td>1.862830</td>\n",
       "      <td>0.0</td>\n",
       "    </tr>\n",
       "    <tr>\n",
       "      <th>min</th>\n",
       "      <td>0.000000</td>\n",
       "      <td>0.000000</td>\n",
       "      <td>27.000000</td>\n",
       "      <td>0.000000</td>\n",
       "      <td>39.0</td>\n",
       "    </tr>\n",
       "    <tr>\n",
       "      <th>25%</th>\n",
       "      <td>0.000000</td>\n",
       "      <td>0.000000</td>\n",
       "      <td>30.000000</td>\n",
       "      <td>0.000000</td>\n",
       "      <td>39.0</td>\n",
       "    </tr>\n",
       "    <tr>\n",
       "      <th>50%</th>\n",
       "      <td>0.000000</td>\n",
       "      <td>0.000000</td>\n",
       "      <td>33.000000</td>\n",
       "      <td>0.000000</td>\n",
       "      <td>39.0</td>\n",
       "    </tr>\n",
       "    <tr>\n",
       "      <th>75%</th>\n",
       "      <td>1.000000</td>\n",
       "      <td>12.000000</td>\n",
       "      <td>36.000000</td>\n",
       "      <td>1.000000</td>\n",
       "      <td>39.0</td>\n",
       "    </tr>\n",
       "    <tr>\n",
       "      <th>max</th>\n",
       "      <td>23.000000</td>\n",
       "      <td>39.000000</td>\n",
       "      <td>39.000000</td>\n",
       "      <td>26.000000</td>\n",
       "      <td>39.0</td>\n",
       "    </tr>\n",
       "  </tbody>\n",
       "</table>\n",
       "</div>"
      ],
      "text/plain": [
       "       frequency_cal  recency_cal        T_cal  frequency_holdout  \\\n",
       "count    2357.000000  2357.000000  2357.000000        2357.000000   \n",
       "mean        0.940178     6.842597    32.985999           0.758591   \n",
       "std         1.835391    10.729357     3.346091           1.862830   \n",
       "min         0.000000     0.000000    27.000000           0.000000   \n",
       "25%         0.000000     0.000000    30.000000           0.000000   \n",
       "50%         0.000000     0.000000    33.000000           0.000000   \n",
       "75%         1.000000    12.000000    36.000000           1.000000   \n",
       "max        23.000000    39.000000    39.000000          26.000000   \n",
       "\n",
       "       duration_holdout  \n",
       "count            2357.0  \n",
       "mean               39.0  \n",
       "std                 0.0  \n",
       "min                39.0  \n",
       "25%                39.0  \n",
       "50%                39.0  \n",
       "75%                39.0  \n",
       "max                39.0  "
      ]
     },
     "execution_count": 206,
     "metadata": {},
     "output_type": "execute_result"
    }
   ],
   "source": [
    "from lifetimes.utils import calibration_and_holdout_data\n",
    "\n",
    "rfm_cal = calibration_and_holdout_data(\n",
    "    cdnow_transactions, \n",
    "    customer_id_col='customer_id',\n",
    "    datetime_col='date',\n",
    "    calibration_period_end='1997-09-30',\n",
    "    observation_period_end='1998-06-30',\n",
    "    freq='W'\n",
    ")\n",
    "\n",
    "rfm_cal.describe()"
   ]
  },
  {
   "cell_type": "code",
   "execution_count": 207,
   "metadata": {},
   "outputs": [
    {
     "data": {
      "image/png": "[encoded data removed]",
      "text/plain": [
       "<matplotlib.figure.Figure at 0xbcbdc90518>"
      ]
     },
     "metadata": {},
     "output_type": "display_data"
    },
    {
     "data": {
      "text/plain": [
       "0.8571428571428571"
      ]
     },
     "execution_count": 207,
     "metadata": {},
     "output_type": "execute_result"
    }
   ],
   "source": [
    "from lifetimes.plotting import plot_calibration_purchases_vs_holdout_purchases\n",
    "\n",
    "pnbd.fit(rfm_cal['frequency_cal'], rfm_cal['recency_cal'], rfm_cal['T_cal'])\n",
    "plot_calibration_purchases_vs_holdout_purchases(pnbd, rfm_cal)\n",
    "plt.show()\n",
    "from sklearn.metrics import accuracy_score\n",
    "#y_pred = [0.2, 0.5, 1, 1.75, 2, 3, 3.5]\n",
    "#y_true = [0.25, 0.65, 1.45, 1.65, 1.75, 3, 4.5]\n",
    "y_pred = [0,1,1,2,2,3,4]\n",
    "y_true = [0,1,1,2,2,3,5]\n",
    "accuracy_score(y_true, y_pred)"
   ]
  },
  {
   "cell_type": "code",
   "execution_count": 135,
   "metadata": {},
   "outputs": [
    {
     "data": {
      "image/png": "[encoded data removed]",
      "text/plain": [
       "<matplotlib.figure.Figure at 0xbcbbc9f0f0>"
      ]
     },
     "metadata": {},
     "output_type": "display_data"
    }
   ],
   "source": [
    "from lifetimes.plotting import plot_frequency_recency_matrix\n",
    "\n",
    "plot_frequency_recency_matrix(pnbd)\n",
    "plt.show()"
   ]
  },
  {
   "cell_type": "code",
   "execution_count": 167,
   "metadata": {},
   "outputs": [
    {
     "data": {
      "image/png": "[encoded data removed]",
      "text/plain": [
       "<matplotlib.figure.Figure at 0xbcbd89abe0>"
      ]
     },
     "metadata": {},
     "output_type": "display_data"
    }
   ],
   "source": [
    "from lifetimes.plotting import plot_probability_alive_matrix\n",
    "plot_probability_alive_matrix(pnbd)\n",
    "plt.show()"
   ]
  },
  {
   "cell_type": "code",
   "execution_count": 139,
   "metadata": {},
   "outputs": [
    {
     "data": {
      "image/png": "[encoded data removed]",
      "text/plain": [
       "<matplotlib.figure.Figure at 0xbcbc2a1320>"
      ]
     },
     "metadata": {},
     "output_type": "display_data"
    }
   ],
   "source": [
    "from lifetimes.plotting import plot_expected_repeat_purchases\n",
    "plot_expected_repeat_purchases(pnbd)\n",
    "plt.show()"
   ]
  },
  {
   "cell_type": "code",
   "execution_count": 210,
   "metadata": {},
   "outputs": [
    {
     "name": "stdout",
     "output_type": "stream",
     "text": [
      "             frequency  recency      T  monetary_value\n",
      "customer_id                                           \n",
      "1                    2    30.43  38.86           22.35\n",
      "2                    1     1.71  38.86           11.77\n",
      "6                    7    29.43  38.86           73.74\n",
      "7                    1     5.00  38.86           11.77\n",
      "9                    2    35.71  38.86           25.55\n"
     ]
    }
   ],
   "source": [
    "from lifetimes.datasets import load_cdnow_summary_data_with_monetary_value\n",
    "\n",
    "summary_with_money_value = load_cdnow_summary_data_with_monetary_value()\n",
    "summary_with_money_value.head()\n",
    "returning_customers_summary = summary_with_money_value[summary_with_money_value['frequency']>0]\n",
    "\n",
    "print(returning_customers_summary.head())"
   ]
  },
  {
   "cell_type": "code",
   "execution_count": 143,
   "metadata": {},
   "outputs": [
    {
     "name": "stdout",
     "output_type": "stream",
     "text": [
      "<lifetimes.GammaGammaFitter: fitted with 946 subjects, p: 6.25, q: 3.74, v: 15.45>\n"
     ]
    }
   ],
   "source": [
    "from lifetimes import GammaGammaFitter\n",
    "\n",
    "ggf = GammaGammaFitter(penalizer_coef = 0)\n",
    "ggf.fit(returning_customers_summary['frequency'],\n",
    "        returning_customers_summary['monetary_value'])\n",
    "print(ggf)"
   ]
  },
  {
   "cell_type": "code",
   "execution_count": 144,
   "metadata": {},
   "outputs": [
    {
     "name": "stdout",
     "output_type": "stream",
     "text": [
      "customer_id\n",
      "1     24.658609\n",
      "2     18.911460\n",
      "3     35.171004\n",
      "4     35.171004\n",
      "5     35.171004\n",
      "6     71.462860\n",
      "7     18.911460\n",
      "8     35.171004\n",
      "9     27.282402\n",
      "10    35.171004\n",
      "dtype: float64\n"
     ]
    }
   ],
   "source": [
    "print(ggf.conditional_expected_average_profit(\n",
    "        summary_with_money_value['frequency'],\n",
    "        summary_with_money_value['monetary_value']\n",
    "    ).head(10))"
   ]
  },
  {
   "cell_type": "code",
   "execution_count": 145,
   "metadata": {},
   "outputs": [
    {
     "name": "stdout",
     "output_type": "stream",
     "text": [
      "Expected conditional average profit: 35.252959133251984, Average profit: 35.07855179704026\n"
     ]
    }
   ],
   "source": [
    "print(\"Expected conditional average profit: %s, Average profit: %s\" % (\n",
    "    ggf.conditional_expected_average_profit(\n",
    "        summary_with_money_value['frequency'],\n",
    "        summary_with_money_value['monetary_value']\n",
    "    ).mean(),\n",
    "    summary_with_money_value[summary_with_money_value['frequency']>0]['monetary_value'].mean()\n",
    "))"
   ]
  },
  {
   "cell_type": "code",
   "execution_count": 185,
   "metadata": {},
   "outputs": [
    {
     "name": "stdout",
     "output_type": "stream",
     "text": [
      "customer_id\n",
      "1       0.717640\n",
      "2      10.656698\n",
      "3     630.799418\n",
      "4     630.799418\n",
      "5     630.799418\n",
      "6       0.000031\n",
      "7      10.656698\n",
      "8     630.799418\n",
      "9       0.794000\n",
      "10    630.799418\n",
      "Name: clv, dtype: float64\n"
     ]
    }
   ],
   "source": [
    "pnbd.fit(summary_with_money_value['frequency'], summary_with_money_value['recency'], summary_with_money_value['T'])\n",
    "\n",
    "print(ggf.customer_lifetime_value(\n",
    "    pnbd, #the model to use to predict the number of future transactions\n",
    "    summary_with_money_value['frequency'],\n",
    "    summary_with_money_value['recency'],\n",
    "    summary_with_money_value['T'],\n",
    "    summary_with_money_value['monetary_value'],\n",
    "    time=12, # months\n",
    "   # discount_rate=0.01 # monthly discount rate ~ 12.7% annually\n",
    ").head(10))"
   ]
  },
  {
   "cell_type": "code",
   "execution_count": null,
   "metadata": {
    "collapsed": true
   },
   "outputs": [],
   "source": []
  },
  {
   "cell_type": "code",
   "execution_count": null,
   "metadata": {
    "collapsed": true
   },
   "outputs": [],
   "source": []
  },
  {
   "cell_type": "code",
   "execution_count": null,
   "metadata": {
    "collapsed": true
   },
   "outputs": [],
   "source": []
  },
  {
   "cell_type": "code",
   "execution_count": null,
   "metadata": {
    "collapsed": true
   },
   "outputs": [],
   "source": []
  },
  {
   "cell_type": "code",
   "execution_count": null,
   "metadata": {
    "collapsed": true
   },
   "outputs": [],
   "source": []
  },
  {
   "cell_type": "code",
   "execution_count": null,
   "metadata": {
    "collapsed": true
   },
   "outputs": [],
   "source": []
  },
  {
   "cell_type": "code",
   "execution_count": null,
   "metadata": {
    "collapsed": true
   },
   "outputs": [],
   "source": []
  },
  {
   "cell_type": "code",
   "execution_count": null,
   "metadata": {
    "collapsed": true
   },
   "outputs": [],
   "source": []
  },
  {
   "cell_type": "code",
   "execution_count": 171,
   "metadata": {},
   "outputs": [
    {
     "data": {
      "text/html": [
       "<div>\n",
       "<style>\n",
       "    .dataframe thead tr:only-child th {\n",
       "        text-align: right;\n",
       "    }\n",
       "\n",
       "    .dataframe thead th {\n",
       "        text-align: left;\n",
       "    }\n",
       "\n",
       "    .dataframe tbody tr th {\n",
       "        vertical-align: top;\n",
       "    }\n",
       "</style>\n",
       "<table border=\"1\" class=\"dataframe\">\n",
       "  <thead>\n",
       "    <tr style=\"text-align: right;\">\n",
       "      <th></th>\n",
       "      <th>frequency</th>\n",
       "      <th>recency</th>\n",
       "      <th>T</th>\n",
       "    </tr>\n",
       "    <tr>\n",
       "      <th>customer_id</th>\n",
       "      <th></th>\n",
       "      <th></th>\n",
       "      <th></th>\n",
       "    </tr>\n",
       "  </thead>\n",
       "  <tbody>\n",
       "    <tr>\n",
       "      <th>4</th>\n",
       "      <td>3.0</td>\n",
       "      <td>49.0</td>\n",
       "      <td>52.0</td>\n",
       "    </tr>\n",
       "    <tr>\n",
       "      <th>18</th>\n",
       "      <td>0.0</td>\n",
       "      <td>0.0</td>\n",
       "      <td>52.0</td>\n",
       "    </tr>\n",
       "    <tr>\n",
       "      <th>21</th>\n",
       "      <td>1.0</td>\n",
       "      <td>2.0</td>\n",
       "      <td>52.0</td>\n",
       "    </tr>\n",
       "    <tr>\n",
       "      <th>50</th>\n",
       "      <td>0.0</td>\n",
       "      <td>0.0</td>\n",
       "      <td>52.0</td>\n",
       "    </tr>\n",
       "    <tr>\n",
       "      <th>60</th>\n",
       "      <td>0.0</td>\n",
       "      <td>0.0</td>\n",
       "      <td>48.0</td>\n",
       "    </tr>\n",
       "  </tbody>\n",
       "</table>\n",
       "</div>"
      ],
      "text/plain": [
       "             frequency  recency     T\n",
       "customer_id                          \n",
       "4                  3.0     49.0  52.0\n",
       "18                 0.0      0.0  52.0\n",
       "21                 1.0      2.0  52.0\n",
       "50                 0.0      0.0  52.0\n",
       "60                 0.0      0.0  48.0"
      ]
     },
     "execution_count": 171,
     "metadata": {},
     "output_type": "execute_result"
    }
   ],
   "source": [
    "from lifetimes.utils import summary_data_from_transaction_data\n",
    "rfm = summary_data_from_transaction_data(cdnow_transactions, 'customer_id', 'date', observation_period_end='1997-12-30', freq='W')\n",
    "rfm.head()"
   ]
  },
  {
   "cell_type": "code",
   "execution_count": 172,
   "metadata": {},
   "outputs": [
    {
     "name": "stdout",
     "output_type": "stream",
     "text": [
      "<lifetimes.ParetoNBDFitter: fitted with 2357 subjects, alpha: 14.47, beta: 10.13, r: 0.62, s: 0.43>\n"
     ]
    }
   ],
   "source": [
    "\n",
    "from lifetimes import ParetoNBDFitter\n",
    "\n",
    "pnbd = ParetoNBDFitter()\n",
    "pnbd.fit(rfm['frequency'], rfm['recency'], rfm['T'])\n",
    "print (pnbd)"
   ]
  },
  {
   "cell_type": "code",
   "execution_count": 173,
   "metadata": {},
   "outputs": [
    {
     "data": {
      "text/html": [
       "<div>\n",
       "<style>\n",
       "    .dataframe thead tr:only-child th {\n",
       "        text-align: right;\n",
       "    }\n",
       "\n",
       "    .dataframe thead th {\n",
       "        text-align: left;\n",
       "    }\n",
       "\n",
       "    .dataframe tbody tr th {\n",
       "        vertical-align: top;\n",
       "    }\n",
       "</style>\n",
       "<table border=\"1\" class=\"dataframe\">\n",
       "  <thead>\n",
       "    <tr style=\"text-align: right;\">\n",
       "      <th></th>\n",
       "      <th>frequency_cal</th>\n",
       "      <th>recency_cal</th>\n",
       "      <th>T_cal</th>\n",
       "      <th>frequency_holdout</th>\n",
       "      <th>duration_holdout</th>\n",
       "    </tr>\n",
       "  </thead>\n",
       "  <tbody>\n",
       "    <tr>\n",
       "      <th>count</th>\n",
       "      <td>2357.000000</td>\n",
       "      <td>2357.000000</td>\n",
       "      <td>2357.000000</td>\n",
       "      <td>2357.000000</td>\n",
       "      <td>2357.0</td>\n",
       "    </tr>\n",
       "    <tr>\n",
       "      <th>mean</th>\n",
       "      <td>1.231650</td>\n",
       "      <td>10.762410</td>\n",
       "      <td>45.985999</td>\n",
       "      <td>0.468392</td>\n",
       "      <td>26.0</td>\n",
       "    </tr>\n",
       "    <tr>\n",
       "      <th>std</th>\n",
       "      <td>2.377519</td>\n",
       "      <td>15.720162</td>\n",
       "      <td>3.346091</td>\n",
       "      <td>1.246199</td>\n",
       "      <td>0.0</td>\n",
       "    </tr>\n",
       "    <tr>\n",
       "      <th>min</th>\n",
       "      <td>0.000000</td>\n",
       "      <td>0.000000</td>\n",
       "      <td>40.000000</td>\n",
       "      <td>0.000000</td>\n",
       "      <td>26.0</td>\n",
       "    </tr>\n",
       "    <tr>\n",
       "      <th>25%</th>\n",
       "      <td>0.000000</td>\n",
       "      <td>0.000000</td>\n",
       "      <td>43.000000</td>\n",
       "      <td>0.000000</td>\n",
       "      <td>26.0</td>\n",
       "    </tr>\n",
       "    <tr>\n",
       "      <th>50%</th>\n",
       "      <td>0.000000</td>\n",
       "      <td>0.000000</td>\n",
       "      <td>46.000000</td>\n",
       "      <td>0.000000</td>\n",
       "      <td>26.0</td>\n",
       "    </tr>\n",
       "    <tr>\n",
       "      <th>75%</th>\n",
       "      <td>1.000000</td>\n",
       "      <td>22.000000</td>\n",
       "      <td>49.000000</td>\n",
       "      <td>0.000000</td>\n",
       "      <td>26.0</td>\n",
       "    </tr>\n",
       "    <tr>\n",
       "      <th>max</th>\n",
       "      <td>30.000000</td>\n",
       "      <td>52.000000</td>\n",
       "      <td>52.000000</td>\n",
       "      <td>17.000000</td>\n",
       "      <td>26.0</td>\n",
       "    </tr>\n",
       "  </tbody>\n",
       "</table>\n",
       "</div>"
      ],
      "text/plain": [
       "       frequency_cal  recency_cal        T_cal  frequency_holdout  \\\n",
       "count    2357.000000  2357.000000  2357.000000        2357.000000   \n",
       "mean        1.231650    10.762410    45.985999           0.468392   \n",
       "std         2.377519    15.720162     3.346091           1.246199   \n",
       "min         0.000000     0.000000    40.000000           0.000000   \n",
       "25%         0.000000     0.000000    43.000000           0.000000   \n",
       "50%         0.000000     0.000000    46.000000           0.000000   \n",
       "75%         1.000000    22.000000    49.000000           0.000000   \n",
       "max        30.000000    52.000000    52.000000          17.000000   \n",
       "\n",
       "       duration_holdout  \n",
       "count            2357.0  \n",
       "mean               26.0  \n",
       "std                 0.0  \n",
       "min                26.0  \n",
       "25%                26.0  \n",
       "50%                26.0  \n",
       "75%                26.0  \n",
       "max                26.0  "
      ]
     },
     "execution_count": 173,
     "metadata": {},
     "output_type": "execute_result"
    }
   ],
   "source": [
    "from lifetimes.utils import calibration_and_holdout_data\n",
    "\n",
    "rfm_cal = calibration_and_holdout_data(\n",
    "    cdnow_transactions, \n",
    "    customer_id_col='customer_id',\n",
    "    datetime_col='date',\n",
    "    calibration_period_end='1997-12-30',\n",
    "    observation_period_end='1998-06-30',\n",
    "    freq='W'\n",
    ")\n",
    "\n",
    "rfm_cal.describe()"
   ]
  },
  {
   "cell_type": "code",
   "execution_count": 174,
   "metadata": {},
   "outputs": [
    {
     "data": {
      "image/png": "[encoded data removed]",
      "text/plain": [
       "<matplotlib.figure.Figure at 0xbcbd43ea58>"
      ]
     },
     "metadata": {},
     "output_type": "display_data"
    }
   ],
   "source": [
    "from lifetimes.plotting import plot_frequency_recency_matrix\n",
    "\n",
    "plot_frequency_recency_matrix(pnbd)\n",
    "plt.show()"
   ]
  },
  {
   "cell_type": "code",
   "execution_count": 175,
   "metadata": {},
   "outputs": [
    {
     "data": {
      "image/png": "[encoded data removed]",
      "text/plain": [
       "<matplotlib.figure.Figure at 0xbcbc289358>"
      ]
     },
     "metadata": {},
     "output_type": "display_data"
    }
   ],
   "source": [
    "from lifetimes.plotting import plot_probability_alive_matrix\n",
    "plot_probability_alive_matrix(pnbd)\n",
    "plt.show()"
   ]
  },
  {
   "cell_type": "code",
   "execution_count": 199,
   "metadata": {},
   "outputs": [
    {
     "data": {
      "image/png": "[encoded data removed]",
      "text/plain": [
       "<matplotlib.figure.Figure at 0xbcbdc08da0>"
      ]
     },
     "metadata": {},
     "output_type": "display_data"
    },
    {
     "data": {
      "text/plain": [
       "0.7142857142857143"
      ]
     },
     "execution_count": 199,
     "metadata": {},
     "output_type": "execute_result"
    }
   ],
   "source": [
    "from lifetimes.plotting import plot_calibration_purchases_vs_holdout_purchases\n",
    "\n",
    "pnbd.fit(rfm_cal['frequency_cal'], rfm_cal['recency_cal'], rfm_cal['T_cal'])\n",
    "plot_calibration_purchases_vs_holdout_purchases(pnbd, rfm_cal)\n",
    "plt.show()\n",
    "from sklearn.metrics import accuracy_score\n",
    "#y_pred = [0.125, 0.25, 0.6, 1, 1.3, 1.75, 2]\n",
    "#y_true = [0.130, 0.30, 0.75, 0.70, 1.30, 1.1, 1.25]\n",
    "y_pred = [0,0,1,1,1,2,2]\n",
    "y_true = [0,0,1,1,1,1,1]\n",
    "accuracy_score(y_true, y_pred)\n",
    "\n"
   ]
  },
  {
   "cell_type": "code",
   "execution_count": 153,
   "metadata": {},
   "outputs": [
    {
     "data": {
      "image/png": "[encoded data removed]",
      "text/plain": [
       "<matplotlib.figure.Figure at 0xbcbd634ba8>"
      ]
     },
     "metadata": {},
     "output_type": "display_data"
    }
   ],
   "source": [
    "from lifetimes.plotting import plot_expected_repeat_purchases\n",
    "plot_expected_repeat_purchases(pnbd)\n",
    "plt.show()"
   ]
  }
 ],
 "metadata": {
  "kernelspec": {
   "display_name": "Python 3",
   "language": "python",
   "name": "python3"
  },
  "language_info": {
   "codemirror_mode": {
    "name": "ipython",
    "version": 3
   },
   "file_extension": ".py",
   "mimetype": "text/x-python",
   "name": "python",
   "nbconvert_exporter": "python",
   "pygments_lexer": "ipython3",
   "version": "3.6.3"
  }
 },
 "nbformat": 4,
 "nbformat_minor": 2
}
